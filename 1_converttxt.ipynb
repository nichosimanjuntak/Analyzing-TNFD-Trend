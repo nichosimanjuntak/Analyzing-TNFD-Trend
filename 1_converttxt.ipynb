{
 "cells": [
  {
   "cell_type": "code",
   "execution_count": 4,
   "metadata": {},
   "outputs": [
    {
     "name": "stdout",
     "output_type": "stream",
     "text": [
      "Requirement already satisfied: pdfminer in /Library/Frameworks/Python.framework/Versions/3.11/lib/python3.11/site-packages (20191125)\n",
      "Requirement already satisfied: pycryptodome in /Library/Frameworks/Python.framework/Versions/3.11/lib/python3.11/site-packages (from pdfminer) (3.23.0)\n",
      "\n",
      "\u001b[1m[\u001b[0m\u001b[34;49mnotice\u001b[0m\u001b[1;39;49m]\u001b[0m\u001b[39;49m A new release of pip available: \u001b[0m\u001b[31;49m22.3.1\u001b[0m\u001b[39;49m -> \u001b[0m\u001b[32;49m25.1.1\u001b[0m\n",
      "\u001b[1m[\u001b[0m\u001b[34;49mnotice\u001b[0m\u001b[1;39;49m]\u001b[0m\u001b[39;49m To update, run: \u001b[0m\u001b[32;49mpip3 install --upgrade pip\u001b[0m\n",
      "Note: you may need to restart the kernel to use updated packages.\n"
     ]
    }
   ],
   "source": [
    "pip install pdfminer"
   ]
  },
  {
   "cell_type": "code",
   "execution_count": 5,
   "metadata": {},
   "outputs": [
    {
     "name": "stdout",
     "output_type": "stream",
     "text": [
      "Requirement already satisfied: pandas in /Library/Frameworks/Python.framework/Versions/3.11/lib/python3.11/site-packages (2.3.0)\n",
      "Requirement already satisfied: numpy>=1.23.2 in /Library/Frameworks/Python.framework/Versions/3.11/lib/python3.11/site-packages (from pandas) (2.3.1)\n",
      "Requirement already satisfied: python-dateutil>=2.8.2 in /Users/nicho/Library/Python/3.11/lib/python/site-packages (from pandas) (2.9.0.post0)\n",
      "Requirement already satisfied: pytz>=2020.1 in /Library/Frameworks/Python.framework/Versions/3.11/lib/python3.11/site-packages (from pandas) (2025.2)\n",
      "Requirement already satisfied: tzdata>=2022.7 in /Library/Frameworks/Python.framework/Versions/3.11/lib/python3.11/site-packages (from pandas) (2025.2)\n",
      "Requirement already satisfied: six>=1.5 in /Users/nicho/Library/Python/3.11/lib/python/site-packages (from python-dateutil>=2.8.2->pandas) (1.16.0)\n",
      "\n",
      "\u001b[1m[\u001b[0m\u001b[34;49mnotice\u001b[0m\u001b[1;39;49m]\u001b[0m\u001b[39;49m A new release of pip available: \u001b[0m\u001b[31;49m22.3.1\u001b[0m\u001b[39;49m -> \u001b[0m\u001b[32;49m25.1.1\u001b[0m\n",
      "\u001b[1m[\u001b[0m\u001b[34;49mnotice\u001b[0m\u001b[1;39;49m]\u001b[0m\u001b[39;49m To update, run: \u001b[0m\u001b[32;49mpip3 install --upgrade pip\u001b[0m\n",
      "Note: you may need to restart the kernel to use updated packages.\n"
     ]
    }
   ],
   "source": [
    "pip install pandas"
   ]
  },
  {
   "cell_type": "code",
   "execution_count": 6,
   "metadata": {},
   "outputs": [
    {
     "name": "stdout",
     "output_type": "stream",
     "text": [
      "Requirement already satisfied: openpyxl in /Library/Frameworks/Python.framework/Versions/3.11/lib/python3.11/site-packages (3.1.5)\n",
      "Requirement already satisfied: et-xmlfile in /Library/Frameworks/Python.framework/Versions/3.11/lib/python3.11/site-packages (from openpyxl) (2.0.0)\n",
      "\n",
      "\u001b[1m[\u001b[0m\u001b[34;49mnotice\u001b[0m\u001b[1;39;49m]\u001b[0m\u001b[39;49m A new release of pip available: \u001b[0m\u001b[31;49m22.3.1\u001b[0m\u001b[39;49m -> \u001b[0m\u001b[32;49m25.1.1\u001b[0m\n",
      "\u001b[1m[\u001b[0m\u001b[34;49mnotice\u001b[0m\u001b[1;39;49m]\u001b[0m\u001b[39;49m To update, run: \u001b[0m\u001b[32;49mpip3 install --upgrade pip\u001b[0m\n",
      "Note: you may need to restart the kernel to use updated packages.\n"
     ]
    }
   ],
   "source": [
    "pip install openpyxl"
   ]
  },
  {
   "cell_type": "code",
   "execution_count": 7,
   "metadata": {},
   "outputs": [],
   "source": [
    "from pdfminer.converter import PDFPageAggregator\n",
    "from pdfminer.layout import *\n",
    "from pdfminer.pdfparser import PDFParser\n",
    "from pdfminer.pdfdocument import PDFDocument\n",
    "from pdfminer.pdfpage import PDFPage,PDFTextExtractionNotAllowed\n",
    "from pdfminer.pdfinterp import PDFResourceManager, PDFPageInterpreter\n",
    "import os\n"
   ]
  },
  {
   "cell_type": "code",
   "execution_count": 8,
   "metadata": {},
   "outputs": [],
   "source": [
    "def parsePDF(pdf_path,txt_path):\n",
    "    # Open a pdf document in binary read mode\n",
    "    fp = open(pdf_path,'rb')\n",
    "\n",
    "    # Use the file object to create a pdf document analyzer\n",
    "    parser = PDFParser(fp)\n",
    "\n",
    "    # The object of the pdf document is connected to the analyzer\n",
    "    doc = PDFDocument(parser=parser)\n",
    "    parser.set_document(doc=doc)\n",
    "\n",
    "    # If it is an encrypted pdf, enter the password. The new version does not appear to have this attribute\n",
    "    # doc._initialize_password()\n",
    "\n",
    "    # Create pdf Explorer to manage shared resources\n",
    "    resource = PDFResourceManager()\n",
    "\n",
    "    # Parameter analyzer\n",
    "    laparam=LAParams()\n",
    "\n",
    "    # Create an aggregator\n",
    "    device = PDFPageAggregator(resource,laparams=laparam)\n",
    "\n",
    "    # Create a pdf page interpreter\n",
    "    interpreter = PDFPageInterpreter(resource,device)\n",
    "    \n",
    "    # Get a collection of pages\n",
    "    for page in PDFPage.get_pages(fp):\n",
    "        # Use the page interpreter to read\n",
    "        interpreter.process_page(page)\n",
    "        # Use aggregators to get content\n",
    "        layout = device.get_result()\n",
    "        \n",
    "        for x in layout:\n",
    "            if isinstance(x, LTTextBoxHorizontal):  # Get text content\n",
    "                    # Save text content\n",
    "                with open(txt_path, 'a',encoding='UTF-8',errors='ignore') as f:\n",
    "                    results = x.get_text()\n",
    "\n",
    "                    f.write(results + '\\n')\n"
   ]
  },
  {
   "cell_type": "code",
   "execution_count": 19,
   "metadata": {},
   "outputs": [
    {
     "name": "stdout",
     "output_type": "stream",
     "text": [
      "Folder not found for 2022: /Users/nicho/Documents/Hong Kong/HKUST/UROP/TNFD/Report/2022/pdf\n",
      "Finished processing 1 files\n",
      "Finished processing 2 files\n",
      "Finished processing 3 files\n",
      "Error processing .DS_Store in 2023: No /Root object! - Is this really a PDF?\n",
      "Finished processing 4 files\n",
      "Finished processing 5 files\n",
      "Finished processing 6 files\n",
      "Finished processing 7 files\n",
      "Finished processing 8 files\n",
      "Finished processing 9 files\n",
      "Finished processing 10 files\n",
      "Finished processing 11 files\n",
      "Finished processing 1 files\n",
      "Finished processing 2 files\n",
      "Finished processing 3 files\n",
      "Finished processing 4 files\n",
      "Finished processing 5 files\n",
      "Finished processing 6 files\n",
      "Error processing Fujifilm Holdings_2024_Nature TNFD Report.pdf in 2024: Unsupported revision: param={'CF': {'StdCF': {'AuthEvent': /'DocOpen', 'CFM': /'AESV3', 'Length': 32}}, 'Filter': /'Standard', 'Length': 256, 'O': b'\\\\\\xfbKeW)2\\xb3\\x9e{[-*|\\x8bF\\x87\\x14u\\x99\\x8d\\x1c6\\x9a\\xa0;\\xec\\x88\\xf1\"\\xc1\\xd4\\x97\\x7f\"\\x8d\\xd0\\xa8;\\xe7\\x8a7rz\\xe0Z\\xb8w\\x00\\x00\\x00\\x00\\x00\\x00\\x00\\x00\\x00\\x00\\x00\\x00\\x00\\x00\\x00\\x00\\x00\\x00\\x00\\x00\\x00\\x00\\x00\\x00\\x00\\x00\\x00\\x00\\x00\\x00\\x00\\x00\\x00\\x00\\x00\\x00\\x00\\x00\\x00\\x00\\x00\\x00\\x00\\x00\\x00\\x00\\x00\\x00\\x00\\x00\\x00\\x00\\x00\\x00\\x00\\x00\\x00\\x00\\x00\\x00\\x00\\x00\\x00\\x00\\x00\\x00\\x00\\x00\\x00\\x00\\x00\\x00\\x00\\x00\\x00\\x00\\x00\\x00\\x00', 'OE': b'\\xd4455c6\\x06\\xd6\\xd1\\x8d\\xa2wa1\\xd3\\xec\\x91\\xf0%a\\xa8o3F\\xd9*f\\x19\\xa16\\xa1e', 'P': -1340, 'Perms': b\"\\x9bp\\x7f\\xac\\x8c\\xbb\\x93'\\xc5,\\x8b\\x14\\x005S\\xf5\", 'R': 6, 'StmF': /'StdCF', 'StrF': /'StdCF', 'U': b'B\\xce\\x1e\\xca\\xb3\\xd01\\xdf\\xd1\\x8f\\r\\xef1\\xb6\\x92\\xdfe\\xf6+g\\xa3\\x9c3\"\\x7f\\xb0\\x98\\xde\\xab5\\xaa\\xf9\\x00\\x96\\x97\\x19\\xf33J\\nM\\xd6\\xe8\\x8c)R;\\xeb\\x00\\x00\\x00\\x00\\x00\\x00\\x00\\x00\\x00\\x00\\x00\\x00\\x00\\x00\\x00\\x00\\x00\\x00\\x00\\x00\\x00\\x00\\x00\\x00\\x00\\x00\\x00\\x00\\x00\\x00\\x00\\x00\\x00\\x00\\x00\\x00\\x00\\x00\\x00\\x00\\x00\\x00\\x00\\x00\\x00\\x00\\x00\\x00\\x00\\x00\\x00\\x00\\x00\\x00\\x00\\x00\\x00\\x00\\x00\\x00\\x00\\x00\\x00\\x00\\x00\\x00\\x00\\x00\\x00\\x00\\x00\\x00\\x00\\x00\\x00\\x00\\x00\\x00\\x00', 'UE': b'\\xf0\\xc6\\xc3\\x800\\xfc\\xfb\\xd4Wx\\xdeb\\xfc\\x1a\\x95\\x89\\xe1w\\xeb\\x97\\x87I\\xf9\\xe6\\xc5X\\x8e\\x8e\\x199F\\x15', 'V': 5}\n",
      "Error processing Bridgestone_2024_Mainstream Annual Report Financial Filings CSRD.pdf in 2024: Unsupported revision: param={'CF': {'StdCF': {'AuthEvent': /'DocOpen', 'CFM': /'AESV3', 'Length': 32}}, 'Filter': /'Standard', 'Length': 256, 'O': b'\\x1cF\\xb6\\xdb\\xbaos`\\x1d}\\x01D\\xf1\\xad\\xd0\\x02\\t8\\xab\\x9c\\x19\\x88U*a\\x82j\\x8a=\\xb9\\xc7\\xf5&\\xe7X\\xd5\\xcb\\x18\\xb5\\x9a_Xq\\xf1\\xca\\xb0hJ\\x00\\x00\\x00\\x00\\x00\\x00\\x00\\x00\\x00\\x00\\x00\\x00\\x00\\x00\\x00\\x00\\x00\\x00\\x00\\x00\\x00\\x00\\x00\\x00\\x00\\x00\\x00\\x00\\x00\\x00\\x00\\x00\\x00\\x00\\x00\\x00\\x00\\x00\\x00\\x00\\x00\\x00\\x00\\x00\\x00\\x00\\x00\\x00\\x00\\x00\\x00\\x00\\x00\\x00\\x00\\x00\\x00\\x00\\x00\\x00\\x00\\x00\\x00\\x00\\x00\\x00\\x00\\x00\\x00\\x00\\x00\\x00\\x00\\x00\\x00\\x00\\x00\\x00\\x00', 'OE': b'.\\xaf\\xbd*8Dh\\xd9\\xd7\\xf1\\xfb\\xeb\\x05\\xc3\\xd5\\x82\\x03\\r*\\x8a\\xadO\\xd7Hs\\x85\\xa4\\xe0\\x03J\\xe9\\x94', 'P': -3388, 'Perms': b'=\\r=q_4Z\\xde\\x9e\\xe4\\x8e\\xb7j\\x0eF.', 'R': 6, 'StmF': /'StdCF', 'StrF': /'StdCF', 'U': b'E\\xee}A$\\x95\\x10\\x80qD\\xbe\\xd4\\xeeK\\x0bS\\x11\\x8b\\xbf\\xb1\\r\\xb6JE\\xc5\\xd5/\\x83F\\xd5)\\x8d\\xee\\xe3\\xd3q\\xf5\\x80*\\x0b\\xca\\xb0&\\xcb\\x10\\x9b\\t`\\x00\\x00\\x00\\x00\\x00\\x00\\x00\\x00\\x00\\x00\\x00\\x00\\x00\\x00\\x00\\x00\\x00\\x00\\x00\\x00\\x00\\x00\\x00\\x00\\x00\\x00\\x00\\x00\\x00\\x00\\x00\\x00\\x00\\x00\\x00\\x00\\x00\\x00\\x00\\x00\\x00\\x00\\x00\\x00\\x00\\x00\\x00\\x00\\x00\\x00\\x00\\x00\\x00\\x00\\x00\\x00\\x00\\x00\\x00\\x00\\x00\\x00\\x00\\x00\\x00\\x00\\x00\\x00\\x00\\x00\\x00\\x00\\x00\\x00\\x00\\x00\\x00\\x00\\x00', 'UE': b\"\\x12\\xd3\\x88H\\xe7[\\x08'\\xa2\\x12_b\\xe3\\xb1\\xe7s\\x18\\x80\\xeb;\\x9c\\\\\\x9b\\xc4\\x1ad\\x08\\x91g\\xcf<\\xbf\", 'V': 5}\n",
      "Finished processing 7 files\n",
      "Finished processing 8 files\n",
      "Finished processing 9 files\n",
      "Finished processing 10 files\n",
      "Finished processing 11 files\n",
      "Finished processing 12 files\n",
      "Finished processing 13 files\n",
      "Finished processing 14 files\n",
      "Finished processing 15 files\n",
      "Finished processing 16 files\n",
      "Finished processing 17 files\n",
      "Finished processing 18 files\n",
      "Finished processing 19 files\n",
      "Finished processing 20 files\n",
      "Finished processing 21 files\n",
      "Finished processing 22 files\n",
      "Finished processing 23 files\n",
      "Finished processing 24 files\n",
      "Finished processing 25 files\n",
      "Error processing Oji Holdings Corporation_2024_Nature TNFD Report.pdf in 2024: Unsupported revision: param={'CF': {'StdCF': {'AuthEvent': /'DocOpen', 'CFM': /'AESV3', 'Length': 32}}, 'Filter': /'Standard', 'Length': 256, 'O': b'+a\\xbc\\xb8\\xcf*\\x1c\\x15\\xae\\x0e\\xab5\\xd8#\\x80<\\xd4#W5>\\xc5D\\\\\\xc3\\xca`\\xef\\xef.QB\\xa3\\xc0\\x9e\\xc1\\x18;\\x86\\xda\\x1e\\x9b\\xd1\\x89\\x04\\x9d*\\xee\\x00\\x00\\x00\\x00\\x00\\x00\\x00\\x00\\x00\\x00\\x00\\x00\\x00\\x00\\x00\\x00\\x00\\x00\\x00\\x00\\x00\\x00\\x00\\x00\\x00\\x00\\x00\\x00\\x00\\x00\\x00\\x00\\x00\\x00\\x00\\x00\\x00\\x00\\x00\\x00\\x00\\x00\\x00\\x00\\x00\\x00\\x00\\x00\\x00\\x00\\x00\\x00\\x00\\x00\\x00\\x00\\x00\\x00\\x00\\x00\\x00\\x00\\x00\\x00\\x00\\x00\\x00\\x00\\x00\\x00\\x00\\x00\\x00\\x00\\x00\\x00\\x00\\x00\\x00', 'OE': b'\\xbc\\xee\\x8c5m\\xa2\\xc6~\\xc5\\xc1\\xd7[\\\\\\x03\\x04\\xb3p\\x047`B\\x0b\\x9d\\x8f\\x8aNi\\x0br\\xdcDl', 'P': -1052, 'Perms': b'\\\\6^8\\xd3\\xed\\x9d\\xd3\\x00;\\xcf\\xc2\\xa9LI\\xfe', 'R': 6, 'StmF': /'StdCF', 'StrF': /'StdCF', 'U': b\"=E\\xbd\\xb6\\x1d\\x17\\xe8\\xb9'\\xee+V\\xc6\\x1d\\xa49\\x1b\\xa7\\xd6(D?\\x1a\\xe5)\\xfd\\xf7\\xda\\xaa\\x13Km\\xc6l\\x81\\x99\\xab\\xff;s*\\x1a,\\xf02V/\\xd1\\x00\\x00\\x00\\x00\\x00\\x00\\x00\\x00\\x00\\x00\\x00\\x00\\x00\\x00\\x00\\x00\\x00\\x00\\x00\\x00\\x00\\x00\\x00\\x00\\x00\\x00\\x00\\x00\\x00\\x00\\x00\\x00\\x00\\x00\\x00\\x00\\x00\\x00\\x00\\x00\\x00\\x00\\x00\\x00\\x00\\x00\\x00\\x00\\x00\\x00\\x00\\x00\\x00\\x00\\x00\\x00\\x00\\x00\\x00\\x00\\x00\\x00\\x00\\x00\\x00\\x00\\x00\\x00\\x00\\x00\\x00\\x00\\x00\\x00\\x00\\x00\\x00\\x00\\x00\", 'UE': b'\\xbfrs\\x03i\\x98\\x1f/?VZ\\xcf\\xfb\\x19\\xbc\"\\xeev\\xec\\x7fyme\\x1c3Zi&\\x9c\\x92\\xb1\\xf0', 'V': 5}\n",
      "Finished processing 26 files\n",
      "Finished processing 27 files\n",
      "Finished processing 28 files\n",
      "Finished processing 29 files\n",
      "Finished processing 30 files\n",
      "Error processing Nomura Asset Management_2024_Sustainability ESG Report.pdf in 2024: Text extraction is not allowed: <_io.BufferedReader name='/Users/nicho/Documents/Hong Kong/HKUST/UROP/TNFD/Report/2024/pdf/Nomura Asset Management_2024_Sustainability ESG Report.pdf'>\n",
      "Finished processing 31 files\n",
      "Error processing Yokogawa Electric Co._2024_Sustainability ESG Report.pdf in 2024: Unsupported revision: param={'CF': {'StdCF': {'AuthEvent': /'DocOpen', 'CFM': /'AESV3', 'Length': 32}}, 'Filter': /'Standard', 'Length': 256, 'O': b'`>\\xe2\\x85\\xbbR\\r\\xa5\\x1d\\xbb\\xcf\\x8f\\x14iS\\x1b\\xbc\\xc9\\x96\\x180\\x08\\xb8\\xc0\"g\\x06/\\xa6{fX\\xe1\\xab>\\x0b1\\xbbQ\\xdcn\\xee\\xeb\\xa6\\xfb\\x0c\\xff\\x9e\\x00\\x00\\x00\\x00\\x00\\x00\\x00\\x00\\x00\\x00\\x00\\x00\\x00\\x00\\x00\\x00\\x00\\x00\\x00\\x00\\x00\\x00\\x00\\x00\\x00\\x00\\x00\\x00\\x00\\x00\\x00\\x00\\x00\\x00\\x00\\x00\\x00\\x00\\x00\\x00\\x00\\x00\\x00\\x00\\x00\\x00\\x00\\x00\\x00\\x00\\x00\\x00\\x00\\x00\\x00\\x00\\x00\\x00\\x00\\x00\\x00\\x00\\x00\\x00\\x00\\x00\\x00\\x00\\x00\\x00\\x00\\x00\\x00\\x00\\x00\\x00\\x00\\x00\\x00', 'OE': b'\\xa6[\\x02r\\xdaLL\\xc7\\x9a\\x0c\\x94\\xe7o\\x83d\\x83|\\xff\\x93\\xcb\\x8c\\xd1%i\\x07\\x1f\\xf4\\x8e,\\x97\\xc0\\xf1', 'P': -1052, 'Perms': b'J6k\\xb1\\xff0\\x88\"\\xb2\\x0b\\xe9Pc\\xec\\x8al', 'R': 6, 'StmF': /'StdCF', 'StrF': /'StdCF', 'U': b'\\xa9\\x08\\xab\\x12N\\xbfS\\x1e1g3\\x07\\xae\\xa8l\\xe3\\x12\\xa9\\x99[.\\xd7\\xa4`\\xbf\\xd1\\xf6\\x03e\\x1b\\x91\\xad\\x06D\\n\\x8do\\xba\\xf5\\xa0\\xe3]{\\x95xuGn\\x00\\x00\\x00\\x00\\x00\\x00\\x00\\x00\\x00\\x00\\x00\\x00\\x00\\x00\\x00\\x00\\x00\\x00\\x00\\x00\\x00\\x00\\x00\\x00\\x00\\x00\\x00\\x00\\x00\\x00\\x00\\x00\\x00\\x00\\x00\\x00\\x00\\x00\\x00\\x00\\x00\\x00\\x00\\x00\\x00\\x00\\x00\\x00\\x00\\x00\\x00\\x00\\x00\\x00\\x00\\x00\\x00\\x00\\x00\\x00\\x00\\x00\\x00\\x00\\x00\\x00\\x00\\x00\\x00\\x00\\x00\\x00\\x00\\x00\\x00\\x00\\x00\\x00\\x00', 'UE': b'\\xe8LnX\\xa5?|\\xd8\\xcb\\r\\x9a\\x8d\\xe5\\xde\\xd27\\x18\\xb1\\x8f\\x92\\x7f\\x11\\x85\\xcd\\xa8\\x0f\\x8d\\x92\\xe3\\xd0K\\xcc', 'V': 5}\n",
      "Finished processing 32 files\n",
      "Finished processing 33 files\n",
      "Finished processing 34 files\n",
      "Finished processing 35 files\n",
      "Finished processing 36 files\n",
      "Finished processing 37 files\n",
      "Finished processing 38 files\n",
      "Finished processing 39 files\n",
      "Finished processing 40 files\n",
      "Finished processing 41 files\n",
      "Finished processing 42 files\n",
      "Finished processing 43 files\n",
      "Error processing .DS_Store in 2025: No /Root object! - Is this really a PDF?\n",
      "Finished processing 1 files\n",
      "Finished processing 2 files\n",
      "Finished processing 3 files\n",
      "Finished processing 4 files\n",
      "Finished processing 5 files\n",
      "Finished processing 6 files\n",
      "Finished processing 7 files\n",
      "Finished processing 8 files\n",
      "Finished processing 9 files\n",
      "Finished processing 10 files\n",
      "Finished processing 11 files\n"
     ]
    }
   ],
   "source": [
    "import os\n",
    "\n",
    "script_directory = \"/Users/nicho/Documents/Hong Kong/HKUST/UROP/TNFD/Report\"\n",
    "\n",
    "# Loop through the years\n",
    "for year in range(2022, 2026):\n",
    "    i = 1\n",
    "    year_folder = os.path.join(script_directory, str(year))\n",
    "    pdf_folder = os.path.join(year_folder, 'pdf')\n",
    "    txt_folder = os.path.join(year_folder, 'txt')\n",
    "\n",
    "    # Check if the 'pdf' folder exists for the current year\n",
    "    if os.path.exists(pdf_folder) and os.path.isdir(pdf_folder):\n",
    "        # Create 'txt' folder if it doesn't exist\n",
    "        if not os.path.exists(txt_folder):\n",
    "            os.makedirs(txt_folder)\n",
    "\n",
    "        # Rename PDF files: replacing '+' with ' '\n",
    "        for filename in os.listdir(pdf_folder):\n",
    "            new_filename = filename.replace('+', ' ')\n",
    "            old_file_path = os.path.join(pdf_folder, filename)\n",
    "            new_file_path = os.path.join(pdf_folder, new_filename)\n",
    "            if old_file_path != new_file_path:  # Check if renaming is needed\n",
    "                os.rename(old_file_path, new_file_path)\n",
    "\n",
    "        # Loop through renamed PDF files in the 'pdf' folder\n",
    "        for pdf_filename in os.listdir(pdf_folder):\n",
    "            pdf_path = os.path.join(pdf_folder, pdf_filename)\n",
    "\n",
    "            # Now you can perform operations on each PDF file\n",
    "            txt_path = os.path.join(txt_folder, f\"{pdf_filename.rstrip('.pdf')}.txt\")\n",
    "            try:\n",
    "                parsePDF(pdf_path, txt_path)\n",
    "            except Exception as e:\n",
    "                print(f'Error processing {pdf_filename} in {year}: {e}')\n",
    "                continue\n",
    "            print(f\"Finished processing {i} files\")\n",
    "            i += 1\n",
    "    else:\n",
    "        print(f\"Folder not found for {year}: {pdf_folder}\")"
   ]
  },
  {
   "cell_type": "code",
   "execution_count": 10,
   "metadata": {},
   "outputs": [
    {
     "name": "stdout",
     "output_type": "stream",
     "text": [
      "    Year                                           Filename  HasTxtFiles\n",
      "0   2023  Robeco_2023_Mainstream Annual Report Financial...            1\n",
      "1   2023         Nissui Corporation_2023_Nature TNFD Report            1\n",
      "2   2023     Cellnex Telecom_2023_Sustainability ESG Report            1\n",
      "3   2023                                              .DS_S            0\n",
      "4   2023     CTBC Financial Holding_2023_Nature TNFD Report            1\n",
      "..   ...                                                ...          ...\n",
      "67  2025     Rhätische Bahn_2025_Sustainability ESG Report            1\n",
      "68  2025   Glenmark Pharmaceuticals_2025_Nature TNFD Report            1\n",
      "69  2025  United Overseas Bank_2025_Sustainability ESG R...            1\n",
      "70  2025                 AMEA Power_2025_Nature TNFD Report            1\n",
      "71  2025           Environment Bank_2025_Nature TNFD Report            1\n",
      "\n",
      "[72 rows x 3 columns]\n"
     ]
    }
   ],
   "source": [
    "import os\n",
    "import pandas as pd\n",
    "\n",
    "script_directory = \"/Users/nicho/Documents/Hong Kong/HKUST/UROP/TNFD/Report\"\n",
    "\n",
    "# Define the years\n",
    "years = list(range(2023, 2026))\n",
    "\n",
    "# Create an empty list to store DataFrames\n",
    "dfs = []\n",
    "\n",
    "# Loop through the years\n",
    "for year in years:\n",
    "    # Define the paths for 'pdf' and 'txt' folders\n",
    "    pdf_folder = os.path.join(script_directory, str(year), 'pdf')\n",
    "    txt_folder = os.path.join(script_directory, str(year), 'txt')\n",
    "\n",
    "    # Get the set of filenames in 'txt' folder without the '.txt' extension\n",
    "    txt_filenames_set = set([filename[:-4] for filename in os.listdir(txt_folder) if filename.endswith('.txt')])\n",
    "\n",
    "    # Create a DataFrame for the current year\n",
    "    df = pd.DataFrame({\n",
    "        'Year': [year] * len(os.listdir(pdf_folder)),\n",
    "        'Filename': [pdf_filename[:-4] for pdf_filename in os.listdir(pdf_folder)],\n",
    "        'HasTxtFiles': [1 if pdf_filename[:-4] in txt_filenames_set else 0 for pdf_filename in os.listdir(pdf_folder)]\n",
    "    })\n",
    "\n",
    "    # Append the DataFrame to the list\n",
    "    dfs.append(df)\n",
    "\n",
    "# Concatenate all DataFrames into a single DataFrame\n",
    "result_df = pd.concat(dfs, ignore_index=True)\n",
    "\n",
    "# Display the resulting DataFrame\n",
    "print(result_df)\n",
    "result_df.to_excel('/Users/nicho/Documents/Hong Kong/HKUST/UROP/TNFD/1.PDFandTXT.xlsx',index=False)"
   ]
  }
 ],
 "metadata": {
  "kernelspec": {
   "display_name": "Python 3 (ipykernel)",
   "language": "python",
   "name": "python3"
  },
  "language_info": {
   "codemirror_mode": {
    "name": "ipython",
    "version": 3
   },
   "file_extension": ".py",
   "mimetype": "text/x-python",
   "name": "python",
   "nbconvert_exporter": "python",
   "pygments_lexer": "ipython3",
   "version": "3.11.3"
  }
 },
 "nbformat": 4,
 "nbformat_minor": 2
}
